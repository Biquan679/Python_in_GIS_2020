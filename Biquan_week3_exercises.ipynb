{
 "cells": [
  {
   "cell_type": "code",
   "execution_count": 158,
   "metadata": {},
   "outputs": [
    {
     "name": "stdout",
     "output_type": "stream",
     "text": [
      "The longest word is  Graduation ,and its length is 10\n"
     ]
    }
   ],
   "source": [
    "## Exercise 1\n",
    "\n",
    "def get_longest_word(list):\n",
    "    t = 0\n",
    "    for each_item in list:\n",
    "        l = len(each_item)\n",
    "        # print(\"The length of\", each_item, \"is\", l)\n",
    "        if l > t:\n",
    "            t = l\n",
    "            long_word = each_item\n",
    "        else:\n",
    "            t = t\n",
    "    return t, long_word\n",
    "\n",
    "## run function\n",
    "list1 = [\"Natural\",\"Resource\",\"Sciences\",\"Graduation\",\"Students\",\"Major\"]\n",
    "t, long_word = get_longest_word(list1)\n",
    "print(\"The longest word is \", long_word, \",and its length is\", t)"
   ]
  },
  {
   "cell_type": "code",
   "execution_count": 2,
   "metadata": {},
   "outputs": [
    {
     "data": {
      "text/plain": [
       "(10, 'Graduation')"
      ]
     },
     "execution_count": 2,
     "metadata": {},
     "output_type": "execute_result"
    }
   ],
   "source": [
    "# Ex1 example\n",
    "\n",
    "def get_longest_word(word_list):\n",
    "    max_len = 0\n",
    "    for word in word_list:\n",
    "        if len(word) > max_len:\n",
    "            max_len = len(word)\n",
    "            result = word\n",
    "    return max_len, result\n",
    "\n",
    "get_longest_word(list1)"
   ]
  },
  {
   "cell_type": "code",
   "execution_count": 159,
   "metadata": {},
   "outputs": [
    {
     "name": "stdout",
     "output_type": "stream",
     "text": [
      "The number of characters is 11\n"
     ]
    }
   ],
   "source": [
    "## Exercise 2\n",
    "\n",
    "def count_str_num_of_string(input_str):\n",
    "    str_set = set(list(input_str))\n",
    "    l = len(str_set)\n",
    "    return l\n",
    "\n",
    "## run function\n",
    "str1 = \"aaaabbbbccddeeffgghhjik\"\n",
    "counts = count_str_num_of_string(str1)\n",
    "print(\"The number of characters is\", counts)"
   ]
  },
  {
   "cell_type": "code",
   "execution_count": 185,
   "metadata": {
    "scrolled": false
   },
   "outputs": [
    {
     "name": "stdout",
     "output_type": "stream",
     "text": [
      "Original dictionary is {'John': 27, 'Ken': 22, 'May': 29, 'Richard': 25, 'Smith': 17, 'James': 22}\n",
      "Descending sort dictionary is {'May': 29, 'John': 27, 'Richard': 25, 'Ken': 22, 'James': 22, 'Smith': 17}\n",
      "Ascending sort dictionary is {'Smith': 17, 'Ken': 22, 'James': 22, 'Richard': 25, 'John': 27, 'May': 29}\n"
     ]
    }
   ],
   "source": [
    "## Exercise 3\n",
    "\n",
    "def creat_ordered_dict(sorting_key_list, reverse_key_value_list):\n",
    "    d = {}\n",
    "    for i in range(len(sorting_key_list)):\n",
    "        for sub_list in reverse_key_value_list:\n",
    "            if sub_list[0] == sorting_key_list[i]:\n",
    "                d[sub_list[1]] = sorting_key_list[i]\n",
    "    return d\n",
    "\n",
    "def sort_by_value(input_dictionary):\n",
    "    \n",
    "    values_list = list(input_dictionary.values())\n",
    "    # print(\"Value_list is \", values_list)\n",
    "    \n",
    "    reverse_keys_values_list = []\n",
    "    for each_value in input_dictionary:\n",
    "        reverse_key_value = [input_dictionary[each_value],each_value]\n",
    "        reverse_keys_values_list.append(reverse_key_value)\n",
    "    # print(\"List reversing keys and values is\", reverse_keys_values_list)\n",
    "    \n",
    "    ## Descending sort\n",
    "    values_list.sort(reverse = True)\n",
    "    # print(\"Descending values_list is\", values_list)\n",
    "    descending_dict = creat_ordered_dict(values_list, reverse_keys_values_list)\n",
    "\n",
    "    \n",
    "    ## Ascending sort\n",
    "    values_list.sort()\n",
    "    # print(\"Ascending values_list is\", values_list)\n",
    "    ascending_dict = creat_ordered_dict(values_list, reverse_keys_values_list)\n",
    "\n",
    "    return descending_dict, ascending_dict\n",
    "\n",
    "## run function\n",
    "dict1 = {\"John\": 27, \"Ken\": 22, \"May\": 29, \"Richard\": 25, \"Smith\": 17, \"James\": 22}\n",
    "descending_dict, ascending_dict = sort_by_value(dict1)\n",
    "print(\"Original dictionary is\", dict1)\n",
    "print(\"Descending sort dictionary is\", descending_dict)\n",
    "print(\"Ascending sort dictionary is\", ascending_dict)"
   ]
  },
  {
   "cell_type": "code",
   "execution_count": 161,
   "metadata": {},
   "outputs": [
    {
     "name": "stdout",
     "output_type": "stream",
     "text": [
      "The orginal string list is aaaabbbbccddeef\n",
      "The new string list is faaabbbbccddeea\n"
     ]
    }
   ],
   "source": [
    "## Exercise 4\n",
    "\n",
    "def change_char(input_string):\n",
    "    first_char = input_string[0]\n",
    "    last_char = input_string[-1]\n",
    "    input_string = input_string[1:-1]\n",
    "    new_string = last_char + input_string + first_char\n",
    "    return first_char, last_char, new_string\n",
    "\n",
    "## run function\n",
    "str1 = \"aaaabbbbccddeef\"\n",
    "first_char, last_char, new_string = change_char(str1)\n",
    "print(\"The orginal string list is\", str1)\n",
    "print(\"The new string list is\", new_string)"
   ]
  },
  {
   "cell_type": "code",
   "execution_count": 239,
   "metadata": {},
   "outputs": [
    {
     "name": "stdout",
     "output_type": "stream",
     "text": [
      "True\n"
     ]
    }
   ],
   "source": [
    "## Exercise 5\n",
    "\n",
    "def search_common_member(list1, list2):\n",
    "    i = 0\n",
    "    member_list = []\n",
    "    for each_item in list1:\n",
    "        if each_item in list2:\n",
    "            i += 1\n",
    "            member_list.append(each_item)\n",
    "        else:\n",
    "            i = i\n",
    "    return bool(i), i, member_list\n",
    "\n",
    "\n",
    "## run function\n",
    "list1 = [\"Hello\",\"Graduate\",\"Students\",\"Welcome\",\"to\",\"UNL\",2020]\n",
    "# print(list1)\n",
    "list2 = [\"I\", \"am\", \"a\",\"new\",\"graduate\",\"student\",\"at\",\"UNL\",2020]\n",
    "# print(list2)\n",
    "return_value, num, common_list = search_common_member(list1,list2)\n",
    "print(return_value)"
   ]
  },
  {
   "cell_type": "code",
   "execution_count": 80,
   "metadata": {},
   "outputs": [
    {
     "name": "stdout",
     "output_type": "stream",
     "text": [
      "The minimum number of coins for 1 is 1.\n",
      "Wrong!! The given value is less than 0!\n",
      "The minimum number of coins for 0.99 is 9\n",
      "The minimum number of coins for 1.99 is 10\n",
      "The minimum number of coins for 0.59 is 8\n",
      "The minimum number of coins for 20.59 is 28\n"
     ]
    }
   ],
   "source": [
    "## Exercises 6\n",
    "\n",
    "## Firstly, when given_value >= 1, the value should be considered as integer and decimal two parts. And decimal part is dominant.\n",
    "## Because using the minimum number of coins to cover the integer is using $1 in this case. \n",
    "## When given_value < 1, then it is a decimal question. \n",
    "\n",
    "def give_value_less_than_1(given_value):\n",
    "    \n",
    "    coin_value = [0.01, 0.10, 0.25]\n",
    "    min_num_coin_list = [0]\n",
    "    \n",
    "    i = 0.01\n",
    "    while i < 1:\n",
    "        i = round(i,2)\n",
    "        max_num = int(i/min(coin_value))\n",
    "        min_num_coin_list.append(max_num)\n",
    "        for coin in coin_value:\n",
    "            t = int(i * 100)\n",
    "            if coin <= i:\n",
    "                previous_value = round(i - coin,2)\n",
    "                if previous_value == 0:\n",
    "                    min_num_coin_list[t] = 1\n",
    "                elif previous_value > 0:\n",
    "                    t = int(round(previous_value * 100,0))\n",
    "                    num_need = min_num_coin_list[t] + 1\n",
    "                    if num_need < min_num_coin_list[-1]:\n",
    "                        min_num_coin_list[-1] = num_need           \n",
    "        i += 0.01\n",
    "        \n",
    "    index = int(round(given_value * 100,0))\n",
    "    min_num_given_value = min_num_coin_list[index]\n",
    "    \n",
    "    # return index, min_num_given_value, min_num_coin_list\n",
    "    return min_num_given_value\n",
    "    \n",
    "give_value_less_than_1(0.54)\n",
    "\n",
    "def randomized_given_value(rand_value):\n",
    "    if rand_value > 1:\n",
    "        decimal_value = rand_value%1\n",
    "        num_decimal = give_value_less_than_1(decimal_value)\n",
    "        num_integer = rand_value//1\n",
    "        min_num_coin = int(num_integer + num_decimal)\n",
    "        print(\"The minimum number of coins for\", rand_value, \"is\", min_num_coin)\n",
    "    elif rand_value < 0:\n",
    "        print(\"Wrong!! The given value is less than 0!\")\n",
    "    elif rand_value == 1:\n",
    "        print(\"The minimum number of coins for 1 is 1.\")\n",
    "    else:\n",
    "        num_decimal = give_value_less_than_1(rand_value)\n",
    "        print(\"The minimum number of coins for\", rand_value, \"is\", num_decimal)\n",
    "\n",
    "randomized_given_value(1)\n",
    "randomized_given_value(-1)\n",
    "randomized_given_value(0.99)\n",
    "randomized_given_value(1.99)\n",
    "randomized_given_value(0.59)\n",
    "randomized_given_value(20.59)"
   ]
  }
 ],
 "metadata": {
  "kernelspec": {
   "display_name": "Python 3",
   "language": "python",
   "name": "python3"
  },
  "language_info": {
   "codemirror_mode": {
    "name": "ipython",
    "version": 3
   },
   "file_extension": ".py",
   "mimetype": "text/x-python",
   "name": "python",
   "nbconvert_exporter": "python",
   "pygments_lexer": "ipython3",
   "version": "3.7.4"
  }
 },
 "nbformat": 4,
 "nbformat_minor": 4
}
