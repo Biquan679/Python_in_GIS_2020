{
 "cells": [
  {
   "cell_type": "code",
   "execution_count": 26,
   "metadata": {},
   "outputs": [
    {
     "name": "stdout",
     "output_type": "stream",
     "text": [
      "Hello world!\n"
     ]
    }
   ],
   "source": [
    "print(\"Hello world!\")"
   ]
  },
  {
   "cell_type": "code",
   "execution_count": 33,
   "metadata": {},
   "outputs": [
    {
     "name": "stdout",
     "output_type": "stream",
     "text": [
      "42 minutes 42 secondes are totally 2562 seconds.\n"
     ]
    }
   ],
   "source": [
    "seds = 42 * 60 + 42\n",
    "\n",
    "print(\"42 minutes 42 secondes are totally\", seds, \"seconds.\")"
   ]
  },
  {
   "cell_type": "code",
   "execution_count": 34,
   "metadata": {},
   "outputs": [
    {
     "name": "stdout",
     "output_type": "stream",
     "text": [
      "10 kilometers is almost 6.211180124223602 miles.\n"
     ]
    }
   ],
   "source": [
    "miles = 10 / 1.61\n",
    "\n",
    "print(\"10 kilometers is almost\", miles, \"miles.\")"
   ]
  },
  {
   "cell_type": "code",
   "execution_count": 36,
   "metadata": {},
   "outputs": [
    {
     "name": "stdout",
     "output_type": "stream",
     "text": [
      "The time per mile is 6 minutes and 52.48200000000003 seconds.\n"
     ]
    }
   ],
   "source": [
    "time_per_mile_mins = int(seds / miles / 60)\n",
    "\n",
    "# print(time_per_mile_mins)\n",
    "\n",
    "time_per_mile_seds = seds / miles % 60\n",
    "\n",
    "# print(time_per_mile_seds)\n",
    "\n",
    "print(\"The time per mile is\", time_per_mile_mins, \"minutes and\", time_per_mile_seds, \"seconds.\")"
   ]
  },
  {
   "cell_type": "code",
   "execution_count": 38,
   "metadata": {},
   "outputs": [
    {
     "name": "stdout",
     "output_type": "stream",
     "text": [
      "42 minutes 42 secondes totally is almost 0.7116666666666667 hours.\n"
     ]
    }
   ],
   "source": [
    "hours = seds / 3600\n",
    "\n",
    "print(\"42 minutes 42 secondes totally is almost\", hours, \"hours.\")"
   ]
  },
  {
   "cell_type": "code",
   "execution_count": 19,
   "metadata": {},
   "outputs": [
    {
     "name": "stdout",
     "output_type": "stream",
     "text": [
      "The average speed is almost 8.727653570337614 miles per hour.\n"
     ]
    }
   ],
   "source": [
    "Aver_speed = miles / hours\n",
    "\n",
    "print(\"The average speed is almost\", Aver_speed, \"miles per hour.\")"
   ]
  },
  {
   "cell_type": "code",
   "execution_count": 35,
   "metadata": {},
   "outputs": [
    {
     "name": "stdout",
     "output_type": "stream",
     "text": [
      "  ______\n",
      " /      \\\n",
      "/        \\\n",
      "|  Stop  |\n",
      "\\        /\n",
      " \\      /\n",
      "  ------\n"
     ]
    }
   ],
   "source": [
    "print(\"  ______\")\n",
    "print(\" /      \\\\\")\n",
    "print(\"/        \\\\\")\n",
    "print(\"|  Stop  |\")\n",
    "print(\"\\\\        /\")\n",
    "print(\" \\\\      /\")\n",
    "print(\"  ------\")"
   ]
  }
 ],
 "metadata": {
  "kernelspec": {
   "display_name": "Python 3",
   "language": "python",
   "name": "python3"
  },
  "language_info": {
   "codemirror_mode": {
    "name": "ipython",
    "version": 3
   },
   "file_extension": ".py",
   "mimetype": "text/x-python",
   "name": "python",
   "nbconvert_exporter": "python",
   "pygments_lexer": "ipython3",
   "version": "3.6.4"
  }
 },
 "nbformat": 4,
 "nbformat_minor": 2
}
