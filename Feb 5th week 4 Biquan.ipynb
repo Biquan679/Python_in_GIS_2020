{
 "cells": [
  {
   "cell_type": "code",
   "execution_count": 5,
   "metadata": {},
   "outputs": [
    {
     "name": "stdout",
     "output_type": "stream",
     "text": [
      "0\n",
      "1\n",
      "2\n",
      "4\n",
      "5\n"
     ]
    }
   ],
   "source": [
    "## Exercise 4.1\n",
    "\n",
    "for i in range(0,6):\n",
    "    if i != 3:\n",
    "        print(i)\n",
    "    else:\n",
    "        continue"
   ]
  },
  {
   "cell_type": "code",
   "execution_count": 54,
   "metadata": {},
   "outputs": [
    {
     "name": "stdout",
     "output_type": "stream",
     "text": [
      "Invalid password\n",
      "Invalid password\n",
      "Invalid password\n",
      "Password is valid\n",
      "Invalid password\n"
     ]
    }
   ],
   "source": [
    "## Exercise 4.2\n",
    "\n",
    "def validate_password(in_password):  \n",
    "    len_password = len(in_password)\n",
    "    status = \"Invalid password\"\n",
    "    if len_password < 6 or len_password > 16:\n",
    "        status = status\n",
    "    else:\n",
    "        sum = 0\n",
    "        for each_char in in_password:\n",
    "            if not ord(each_char) >= 65 and ord(each_char) <= 90:\n",
    "                sum = sum\n",
    "            else:\n",
    "                sum += 1\n",
    "                if not ord(each_char) >= 97 and ord(each_char) <= 122:\n",
    "                    sum = sum\n",
    "                else:\n",
    "                    sum += 1\n",
    "                    if each_char != \"$\" or each_char != \"#\" or each_char != \"@\":\n",
    "                        sum = sum\n",
    "                    else:\n",
    "                        sum += 1\n",
    "        if sum >= 3:\n",
    "            status = \"Password is valid\"\n",
    "        else:\n",
    "            status = status\n",
    "    return status\n",
    "\n",
    "# run function\n",
    "print(validate_password(\"8080\"))\n",
    "print(validate_password(\"8080-8098-4354-6543\"))\n",
    "print(validate_password(\"808-809-435-654\"))\n",
    "print(validate_password(\"Aa#$jjjk\"))\n",
    "print(validate_password(\"8E-809-4t5-65#rre\"))\n"
   ]
  },
  {
   "cell_type": "code",
   "execution_count": 87,
   "metadata": {},
   "outputs": [
    {
     "name": "stdout",
     "output_type": "stream",
     "text": [
      "\n",
      "* \n",
      "* * \n",
      "* * * \n",
      "* * * * \n",
      "* * * * * \n",
      "* * * * - \n",
      "* * * - - \n",
      "* * - - - \n",
      "* - - - - \n"
     ]
    }
   ],
   "source": [
    "## Exercise 4.3\n",
    "\n",
    "for i in range(0, 10):\n",
    "    if i < 6:\n",
    "        for j in range(0,i):\n",
    "            print(\"*\", end = \" \")\n",
    "        print(\"\")\n",
    "    else:\n",
    "        for j in range(0,10 - i):\n",
    "            print(\"*\", end = \" \")\n",
    "        for k in range(10 - i, 5):\n",
    "            print(\"-\", end = \" \")\n",
    "        print(\"\")\n",
    "    \n"
   ]
  },
  {
   "cell_type": "code",
   "execution_count": 38,
   "metadata": {},
   "outputs": [
    {
     "name": "stdout",
     "output_type": "stream",
     "text": [
      "#1. The brand and model of the safest car is Chevy-Silverado_Pickup\n",
      "\n",
      "#2. The safest brand of SUV is Ford\n",
      "#2. The safest brand of Pickup is Chevy\n",
      "#2. The safest brand of Sodan is Honda\n",
      "\n",
      "#3.\n",
      "[['Ford', 212], ['Chevy', 147], ['Honda', 201]]\n",
      "[['SUV', 339], ['Pickup', 56], ['Sodan', 165]]\n"
     ]
    }
   ],
   "source": [
    "## Exercise 4.4\n",
    "\n",
    "Brand = [\"Ford\", \"Ford\", \"Chevy\", \"Chevy\", \"Honda\", \"Ford\", \"Honda\", \"Honda\", \"Ford\", \"Chevy\"]\n",
    "Model = [\"F150\", \"Escape\", \"Charger\", \"Charger\", \"Civic\", \"Escape\", \"CRV\", \"CRV\", \"F150\", \"Silverado\"]\n",
    "Typo = [\"Pickup\", \"SUV\", \"Sodan\", \"Sodan\", \"Sodan\", \"SUV\", \"SUV\", \"SUV\", \"Pickup\", \"Pickup\"]\n",
    "Accidents_each_year = [25, 79, 46, 90, 29, 88, 79, 93, 20, 11]\n",
    "\n",
    "# 1. Find the brand and model of the safest car\n",
    "\n",
    "Brand_model = []\n",
    "Accidents_for_brand_model = []\n",
    "for i in range(0,len(Brand)):\n",
    "    Brand_and_Model = Brand[i] + \"-\" + Model[i] + \"_\" + Typo[i]\n",
    "    if Brand_and_Model not in Brand_model:\n",
    "        Brand_model.append(Brand_and_Model)\n",
    "        Accidents_for_brand_model.append(Accidents_each_year[i])\n",
    "    else:\n",
    "        Accidents_for_brand_model[Brand_model.index(Brand_and_Model)] = Accidents_for_brand_model[Brand_model.index(Brand_and_Model)] \\\n",
    "        + Accidents_each_year[i]\n",
    "\n",
    "#print(Brand_model); #print(Accidents_for_brand_model)\n",
    "\n",
    "least_accidents = min(Accidents_for_brand_model)\n",
    "safest_car_brand_model = Brand_model[Accidents_for_brand_model.index(least_accidents)]        \n",
    "print(\"#1. The brand and model of the safest car is\", safest_car_brand_model)\n",
    "print(\"\")\n",
    "\n",
    "# 2. Find the safest brand for each vehicle type\n",
    "\n",
    "Typo_set = set(Typo)\n",
    "#print(Typo_set)\n",
    "accidents_typo = [max(Accidents_for_brand_model) for i in range(3)]\n",
    "Safest_brand = [\"None\" for i in range(3)]\n",
    "i = 0\n",
    "for each_typo in Typo_set:\n",
    "    for each_brand_model in Brand_model:\n",
    "        if each_brand_model.split(\"_\")[1] == each_typo:\n",
    "            if Accidents_for_brand_model[Brand_model.index(each_brand_model)] <= accidents_typo[i]:\n",
    "                accidents_typo[i] = Accidents_for_brand_model[Brand_model.index(each_brand_model)]\n",
    "                Safest_brand[i] = each_brand_model\n",
    "            else:\n",
    "                accidents_typo[i] = accidents_typo[i]\n",
    "                Safest_brand[i] = Safest_brand[i]\n",
    "    i += 1\n",
    "#print(accidents_typo)\n",
    "#print(Safest_brand)\n",
    "for each_item in Safest_brand:\n",
    "    print(\"#2. The safest brand of \" + each_item.split(\"_\")[1] + \" is \" +  each_item.split(\"_\")[0].split(\"-\")[0])\n",
    "    \n",
    "    \n",
    "# 3. Calculate the total accidents for each brand and vehicle type, respectively\n",
    "\n",
    "def Calculate_total(Title_list, accidents_list):\n",
    "    Title_set = set(Title_list)\n",
    "    Accidents_title = [] \n",
    "    for each_item in Title_set:\n",
    "        sum = 0\n",
    "        for i in range(0, len(Title_list)):\n",
    "            if Title_list[i] == each_item:\n",
    "                sum = sum + accidents_list[i]\n",
    "            else:\n",
    "                continue\n",
    "        Accidents_title.append([each_item,sum])\n",
    "    \n",
    "    return Accidents_title\n",
    "\n",
    "print(\"\"),print(\"#3.\")\n",
    "print(Calculate_total(Brand, Accidents_each_year))\n",
    "print(Calculate_total(Typo, Accidents_each_year))\n"
   ]
  },
  {
   "cell_type": "code",
   "execution_count": 1,
   "metadata": {},
   "outputs": [
    {
     "name": "stdout",
     "output_type": "stream",
     "text": [
      "Cold [0, 3, 6, 8, 9, 11, 12, 15, 17, 18, 21, 23, 24, 26, 27]\n",
      "Slippery [1, 2, 5, 16, 19, 20, 22, 29, 30, 33, 39, 41, 42, 60, 63, 81]\n",
      "Comfortable [4, 7, 10, 13, 14, 25, 28, 31, 32, 34, 35, 36, 37, 38, 40, 43, 44, 45, 46, 47, 48, 49, 50, 51, 52, 53, 54, 55, 56, 57, 58, 59, 61, 62, 64, 65, 66, 67, 68, 69, 70, 71, 72, 73, 74, 75, 76, 77, 78, 79, 80, 82, 83, 84, 85, 86, 87, 88, 89]\n",
      "Warm []\n",
      "\n",
      "Cold -3.91\n",
      "Slippery 0.62\n",
      "Comfortable 5.02\n",
      "Warm 0\n"
     ]
    }
   ],
   "source": [
    "## Exercise 4.5\n",
    "\n",
    "temperatures = [-5.4, 1.0, -1.3, -4.8, 3.9, 0.1, -4.4, 4.0, -2.2, -3.9, 4.4, -2.5,\n",
    "                -4.6, 5.1, 2.1, -2.4, 1.9, -3.3, -4.8, 1.0, -0.8, -2.8, -0.1, -4.7, \n",
    "                -5.6, 2.6, -2.7, -4.6, 3.4, -0.4, -0.9, 3.1, 2.4, 1.6, 4.2, 3.5, 2.6, \n",
    "                3.1, 2.2, 1.8, 3.3, 1.6, 1.5, 4.7, 4.0, 3.6, 4.9, 4.8, 5.3, 5.6, 4.1, \n",
    "                3.7, 7.6, 6.9, 5.1, 6.4, 3.8,4.0, 8.6, 4.1, 1.4, 8.9, 3.0, 1.6, 8.5, \n",
    "                4.7, 6.6, 8.1, 4.5, 4.8, 11.3, 4.7, 5.2, 11.5, 6.2, 2.9, 4.3, 2.8, 2.8, \n",
    "               6.3, 2.6, -0.0, 7.3, 3.4, 4.7, 9.3, 6.4, 5.4, 7.6, 5.2]\n",
    "\n",
    "#1 Store the index of day for each of the classes\n",
    "\n",
    "Cold = []; Slippery =[]; Comfortable = [];Warm = []\n",
    "for i in range(0, len(temperatures)):\n",
    "    if temperatures[i] < -2.0:\n",
    "        Cold.append(i)\n",
    "    elif temperatures[i] < 2.0:\n",
    "        Slippery.append(i)\n",
    "    elif temperatures[i] < 15.0:\n",
    "        Comfortable.append(i)\n",
    "    else:\n",
    "        Warm.append(i)\n",
    "print(\"Cold\", Cold)\n",
    "print(\"Slippery\", Slippery)\n",
    "print(\"Comfortable\", Comfortable)\n",
    "print(\"Warm\", Warm)\n",
    "print(\"\")\n",
    "\n",
    "#2 Calculate the mean temperature in each class\n",
    "def Calculate_mean(Class_list):\n",
    "    sum = 0\n",
    "    if len(Class_list) == 0:\n",
    "        mean = 0\n",
    "    else:\n",
    "        for each_item in Class_list:\n",
    "            sum = sum + temperatures[each_item]\n",
    "        mean = round(sum / len(Class_list),2)\n",
    "    return mean\n",
    "\n",
    "print(\"Cold\", Calculate_mean(Cold))\n",
    "print(\"Slippery\", Calculate_mean(Slippery))\n",
    "print(\"Comfortable\", Calculate_mean(Comfortable))\n",
    "print(\"Warm\", Calculate_mean(Warm))"
   ]
  },
  {
   "cell_type": "code",
   "execution_count": 66,
   "metadata": {},
   "outputs": [
    {
     "data": {
      "text/plain": [
       "3"
      ]
     },
     "execution_count": 66,
     "metadata": {},
     "output_type": "execute_result"
    }
   ],
   "source": [
    "## Exercise 4.6\n",
    "\n",
    "def calculate_longest_len_substring(in_string):\n",
    "    longest_list = []\n",
    "    t = 0\n",
    "    if len(in_string) == 0:\n",
    "        t = t\n",
    "    else:\n",
    "        for i in range(0,len(in_string)):\n",
    "            longest_str = in_string[i]\n",
    "            longest_list.append([in_string[i], 1])\n",
    "            max_len = 1\n",
    "            cur_len = 1\n",
    "            for j in range(i + 2, len(in_string)):\n",
    "                substr = in_string[i:j]\n",
    "                cur_len = len(substr)\n",
    "                if substr[-1] not in longest_str:\n",
    "                    if cur_len > max_len:\n",
    "                        max_len = cur_len\n",
    "                        longest_str = substr\n",
    "                        longest_list[i] = [longest_str, max_len]\n",
    "                else:\n",
    "                    break\n",
    "            if longest_list[i][1] > t:\n",
    "                t = longest_list[i][1] \n",
    "            else:\n",
    "                t = t\n",
    "            \n",
    "    #longest_dict = dict(longest_list)\n",
    "    \n",
    "    return t\n",
    "\n",
    "calculate_longest_len_substring(\"pwwkew\")            "
   ]
  },
  {
   "cell_type": "code",
   "execution_count": 65,
   "metadata": {},
   "outputs": [
    {
     "data": {
      "text/plain": [
       "[[-1, 0, 1], [-1, -1, 2]]"
      ]
     },
     "execution_count": 65,
     "metadata": {},
     "output_type": "execute_result"
    }
   ],
   "source": [
    "## Exercise 4.7\n",
    "def elements_for_zero(array):\n",
    "    result = []\n",
    "    for i in range(0, len(array) - 2):\n",
    "        for j in range(i + 1, len(array)):\n",
    "            for k in range(i + 2, len(array)):\n",
    "                if array[i] + array[j] + array[k] == 0:\n",
    "                    resolution = [array[i], array[j], array[k]]\n",
    "                    resolution.sort()\n",
    "                    if resolution not in result:\n",
    "                        result.append(resolution)\n",
    "                    else:\n",
    "                        continue\n",
    "                else:\n",
    "                    continue\n",
    "                    \n",
    "    return result\n",
    "\n",
    "lis = [-1, 0, 1, 2, -1, -4]                    \n",
    "elements_for_zero(lis)"
   ]
  }
 ],
 "metadata": {
  "kernelspec": {
   "display_name": "Python 3",
   "language": "python",
   "name": "python3"
  },
  "language_info": {
   "codemirror_mode": {
    "name": "ipython",
    "version": 3
   },
   "file_extension": ".py",
   "mimetype": "text/x-python",
   "name": "python",
   "nbconvert_exporter": "python",
   "pygments_lexer": "ipython3",
   "version": "3.7.4"
  }
 },
 "nbformat": 4,
 "nbformat_minor": 4
}
